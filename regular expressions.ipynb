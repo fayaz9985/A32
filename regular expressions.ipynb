{
 "cells": [
  {
   "cell_type": "code",
   "execution_count": 5,
   "id": "d8b78af1",
   "metadata": {},
   "outputs": [
    {
     "name": "stdout",
     "output_type": "stream",
     "text": [
      "python\n",
      "Match\n"
     ]
    }
   ],
   "source": [
    "import re\n",
    "string=\"python is a programming language\"\n",
    "p1=input()\n",
    "if re.match(p1,string):\n",
    "    print(\"Match\")\n",
    "else:\n",
    "    print(p1,\"not matched\")"
   ]
  },
  {
   "cell_type": "code",
   "execution_count": 16,
   "id": "56ef862d",
   "metadata": {},
   "outputs": [
    {
     "name": "stdout",
     "output_type": "stream",
     "text": [
      "5\n"
     ]
    }
   ],
   "source": [
    "import re\n",
    "str=\"python\"\n",
    "x=re.search(\"n\",str)\n",
    "print(x.start())"
   ]
  },
  {
   "cell_type": "code",
   "execution_count": 22,
   "id": "daea115a",
   "metadata": {},
   "outputs": [
    {
     "name": "stdout",
     "output_type": "stream",
     "text": [
      "fAyaz anta ra babu\n"
     ]
    }
   ],
   "source": [
    "import re\n",
    "str=\"fayaz anta ra babu\"\n",
    "x=re.sub(\"a\",\"A\",str,1)\n",
    "print(x)"
   ]
  },
  {
   "cell_type": "code",
   "execution_count": null,
   "id": "edac5fa7",
   "metadata": {},
   "outputs": [],
   "source": []
  }
 ],
 "metadata": {
  "kernelspec": {
   "display_name": "Python 3 (ipykernel)",
   "language": "python",
   "name": "python3"
  },
  "language_info": {
   "codemirror_mode": {
    "name": "ipython",
    "version": 3
   },
   "file_extension": ".py",
   "mimetype": "text/x-python",
   "name": "python",
   "nbconvert_exporter": "python",
   "pygments_lexer": "ipython3",
   "version": "3.10.9"
  }
 },
 "nbformat": 4,
 "nbformat_minor": 5
}
