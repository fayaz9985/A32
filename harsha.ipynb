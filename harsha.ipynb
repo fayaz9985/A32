{
 "cells": [
  {
   "cell_type": "code",
   "execution_count": 24,
   "id": "27baf100",
   "metadata": {},
   "outputs": [
    {
     "name": "stdout",
     "output_type": "stream",
     "text": [
      "[6, 12, 18, 4, 12, 20, 28]\n"
     ]
    }
   ],
   "source": [
    "l1=[3,6,9,12,15,18,21]\n",
    "l2=[4,8,12,16,20,24,28]\n",
    "l=[]\n",
    "for i in range(0,len(l1)):\n",
    "    if i%2!=0:\n",
    "        l.append(l1[i])\n",
    "for i in range(0,len(l2)):\n",
    "    if i%2==0:\n",
    "        l.append(l2[i])\n",
    "print(l)\n",
    "        "
   ]
  },
  {
   "cell_type": "code",
   "execution_count": 41,
   "id": "b729fa93",
   "metadata": {},
   "outputs": [
    {
     "name": "stdout",
     "output_type": "stream",
     "text": [
      "[47, 69, 76, 97]\n"
     ]
    }
   ],
   "source": [
    "r_no=[47,64,69,37,76,83,95,97]\n",
    "s_dic={'jhon':47,'emma':69,'kelly':76,'jason':97}\n",
    "l=[]\n",
    "values=(s_dic.values())\n",
    "for  i in r_no:\n",
    "    for j in values:\n",
    "        if i==j:\n",
    "            l.append(j)\n",
    "print(l)\n"
   ]
  },
  {
   "cell_type": "code",
   "execution_count": null,
   "id": "e91ddf7b",
   "metadata": {},
   "outputs": [],
   "source": [
    "from datetime import datetime\n",
    "d1=datetime(2004,1,1)"
   ]
  }
 ],
 "metadata": {
  "kernelspec": {
   "display_name": "Python 3 (ipykernel)",
   "language": "python",
   "name": "python3"
  },
  "language_info": {
   "codemirror_mode": {
    "name": "ipython",
    "version": 3
   },
   "file_extension": ".py",
   "mimetype": "text/x-python",
   "name": "python",
   "nbconvert_exporter": "python",
   "pygments_lexer": "ipython3",
   "version": "3.10.9"
  }
 },
 "nbformat": 4,
 "nbformat_minor": 5
}
